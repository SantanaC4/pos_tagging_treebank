{
  "nbformat": 4,
  "nbformat_minor": 0,
  "metadata": {
    "colab": {
      "name": "pos_tagging.ipynb",
      "provenance": [],
      "authorship_tag": "ABX9TyPTsEE28K6WyoLepjkvoVR3",
      "include_colab_link": true
    },
    "kernelspec": {
      "name": "python3",
      "display_name": "Python 3"
    },
    "language_info": {
      "name": "python"
    }
  },
  "cells": [
    {
      "cell_type": "markdown",
      "metadata": {
        "id": "view-in-github",
        "colab_type": "text"
      },
      "source": [
        "<a href=\"https://colab.research.google.com/github/SantanaC4/pos_tagging_treebank/blob/main/pos_tagging.ipynb\" target=\"_parent\"><img src=\"https://colab.research.google.com/assets/colab-badge.svg\" alt=\"Open In Colab\"/></a>"
      ]
    },
    {
      "cell_type": "markdown",
      "metadata": {
        "id": "KRCz6LkodLTU"
      },
      "source": [
        "# Criação de um Part of Speech Tagging com base no Treebank corpus\n",
        "\n"
      ]
    },
    {
      "cell_type": "code",
      "metadata": {
        "id": "VVOeKgeJdRRz"
      },
      "source": [
        "import pandas as pd"
      ],
      "execution_count": null,
      "outputs": []
    },
    {
      "cell_type": "code",
      "metadata": {
        "colab": {
          "base_uri": "https://localhost:8080/",
          "height": 35
        },
        "id": "fBP-wp0Ivbb2",
        "outputId": "863d550e-d935-424f-9a0b-de5650ca333e"
      },
      "source": [
        "url = 'https://raw.githubusercontent.com/SantanaC4/pos_tagging_treebank/main/Sec0-18_training'\n",
        "df = pd.read_csv(url, header=None, sep='\\n')\n",
        "\n",
        "spliting =  [i.split(\" \") for i in df[0]]\n",
        "extracting_pair = []\n",
        "for i in spliting:\n",
        "  if (len(i) == 1):\n",
        "    extracting_pair.append(tuple(i[0].split(\"_\")))\n",
        "  else:\n",
        "    for j in i:\n",
        "      if (j != ''):\n",
        "        extracting_pair.append(tuple(j.split(\"_\")))\n",
        "extracting_pair[0][0]+extracting_pair[0][1]"
      ],
      "execution_count": null,
      "outputs": [
        {
          "output_type": "execute_result",
          "data": {
            "application/vnd.google.colaboratory.intrinsic+json": {
              "type": "string"
            },
            "text/plain": [
              "'PierreNNP'"
            ]
          },
          "metadata": {},
          "execution_count": 24
        }
      ]
    },
    {
      "cell_type": "code",
      "metadata": {
        "colab": {
          "base_uri": "https://localhost:8080/"
        },
        "id": "_U1FixlI3fU1",
        "outputId": "77458b5b-43f4-4511-9a97-50f4c282c376"
      },
      "source": [
        "## Default dictionary \n",
        "## Assign default value to key that is not in dictionary\n",
        "from collections import defaultdict\n",
        "\n",
        "## Tallying of tag\n",
        "counts = defaultdict(int)\n",
        "\n",
        "for (word, tag) in extracting_pair:\n",
        "  counts[tag] += 1\n",
        "counts.items()\n",
        "\n",
        "## Unigram Tagger\n",
        "pos = defaultdict(list)\n",
        "for (word, tag) in extracting_pair:\n",
        "  pos[word].append(tag)\n",
        "\n",
        "aux = defaultdict(int)\n",
        "tags_freq = {}\n",
        "for (word, tags) in pos.items():\n",
        "  for i in tags:\n",
        "    aux[i] += 1\n",
        "  tags_freq[word] = sorted([(value, key) for (key, value) in aux.items()], reverse=True)\n",
        "  aux = defaultdict(int)\n",
        "\n",
        "print(tags_freq['offered'])\n"
      ],
      "execution_count": 36,
      "outputs": [
        {
          "output_type": "stream",
          "name": "stdout",
          "text": [
            "[(108, 'VBN'), (75, 'VBD'), (4, 'JJ')]\n"
          ]
        }
      ]
    }
  ]
}