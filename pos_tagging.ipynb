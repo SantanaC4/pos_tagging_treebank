{
  "nbformat": 4,
  "nbformat_minor": 0,
  "metadata": {
    "colab": {
      "name": "pos_tagging.ipynb",
      "provenance": [],
      "authorship_tag": "ABX9TyM+74Uqa7iCV6hJVWL9EQTh",
      "include_colab_link": true
    },
    "kernelspec": {
      "name": "python3",
      "display_name": "Python 3"
    },
    "language_info": {
      "name": "python"
    }
  },
  "cells": [
    {
      "cell_type": "markdown",
      "metadata": {
        "id": "view-in-github",
        "colab_type": "text"
      },
      "source": [
        "<a href=\"https://colab.research.google.com/github/SantanaC4/pos_tagging_treebank/blob/main/pos_tagging.ipynb\" target=\"_parent\"><img src=\"https://colab.research.google.com/assets/colab-badge.svg\" alt=\"Open In Colab\"/></a>"
      ]
    },
    {
      "cell_type": "markdown",
      "metadata": {
        "id": "KRCz6LkodLTU"
      },
      "source": [
        "# Criação de um Part of Speech Tagging com base no Treebank corpus\n",
        "\n"
      ]
    },
    {
      "cell_type": "code",
      "metadata": {
        "id": "VVOeKgeJdRRz"
      },
      "source": [
        "import pandas as pd"
      ],
      "execution_count": null,
      "outputs": []
    },
    {
      "cell_type": "code",
      "metadata": {
        "id": "fBP-wp0Ivbb2"
      },
      "source": [
        "##Upload Penn Treebank Corpus\n",
        "# That function filter the pair (word, tag) of the data\n",
        "def pair_filter(section):\n",
        "  if (section == \"training\"):\n",
        "    url = 'https://raw.githubusercontent.com/SantanaC4/pos_tagging_treebank/main/Sec0-18_training'\n",
        "  if (section == \"development\"):\n",
        "    url = 'https://raw.githubusercontent.com/SantanaC4/pos_tagging_treebank/main/Sec-19-21_development'\n",
        "  df = pd.read_csv(url, header=None, sep='\\n')\n",
        "  spliting =  [i.split(\" \") for i in df[0]]\n",
        "  extracting_pair = []\n",
        "  for i in spliting:\n",
        "    if (len(i) == 1):\n",
        "      extracting_pair.append(tuple(i[0].split(\"_\")))\n",
        "    else:\n",
        "      for j in i:\n",
        "        if (j != ''):\n",
        "          extracting_pair.append(tuple(j.split(\"_\")))\n",
        "  return (extracting_pair)"
      ],
      "execution_count": 34,
      "outputs": []
    },
    {
      "cell_type": "markdown",
      "metadata": {
        "id": "ibMnALNgKWNC"
      },
      "source": [
        "##Unigram Tagger \n",
        "####Building a dictionary with tags probability to each word\n"
      ]
    },
    {
      "cell_type": "code",
      "metadata": {
        "colab": {
          "base_uri": "https://localhost:8080/"
        },
        "id": "_U1FixlI3fU1",
        "outputId": "9c450cba-affb-44fc-b35f-1868135273a2"
      },
      "source": [
        "## Default dictionary \n",
        "## Assign default value to key that is not in dictionary\n",
        "from collections import defaultdict\n",
        "\n",
        "pos = defaultdict(list)\n",
        "for (word, tag) in pair_filter(\"training\"):\n",
        "  pos[word].append(tag)\n",
        "\n",
        "aux = defaultdict(int)\n",
        "tags_probability = {}\n",
        "word_freq = 0\n",
        "\n",
        "for (word, tags) in pos.items():\n",
        "\n",
        "  word_freq = len(tags)\n",
        "  for i in tags:\n",
        "    aux[i] += 1\n",
        "  tags_probability[word] = sorted([(value/word_freq, key) for (key, value) in aux.items()], reverse=True)\n",
        "\n",
        "  aux = defaultdict(int)\n",
        "  word_freq = 0\n",
        "\n",
        "print(tags_probability['is'])"
      ],
      "execution_count": 36,
      "outputs": [
        {
          "output_type": "stream",
          "name": "stdout",
          "text": [
            "[(0.9997030438010394, 'VBZ'), (0.0002969561989606533, 'NNS')]\n"
          ]
        }
      ]
    },
    {
      "cell_type": "code",
      "metadata": {
        "colab": {
          "base_uri": "https://localhost:8080/"
        },
        "id": "8pw2kbVhK31v",
        "outputId": "db6c669b-ebe8-4706-9839-c77a576d1550"
      },
      "source": [
        "tt = pair_filter(\"development\")\n",
        "tt[0]\n",
        "for (word, tag) in tt:\n",
        "  tags_probability[]"
      ],
      "execution_count": 43,
      "outputs": [
        {
          "output_type": "execute_result",
          "data": {
            "text/plain": [
              "('The', 'DT')"
            ]
          },
          "metadata": {},
          "execution_count": 43
        }
      ]
    }
  ]
}